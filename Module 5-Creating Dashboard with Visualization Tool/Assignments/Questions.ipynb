{
 "cells": [
  {
   "cell_type": "code",
   "execution_count": 2,
   "metadata": {},
   "outputs": [
    {
     "name": "stdout",
     "output_type": "stream",
     "text": [
      "a is positive number\n"
     ]
    }
   ],
   "source": [
    "# Q4. Write a Python program to check if a number is positive, negative or zero. \n",
    "a=int(input(\"enter number: \"))\n",
    "if a>=1:\n",
    "    print(\"a is positive number\")\n",
    "elif a<= -1:\n",
    "    print(\"a is negative number\")\n",
    "else:\n",
    "    print(\"a is zero\")"
   ]
  },
  {
   "cell_type": "code",
   "execution_count": 1,
   "metadata": {},
   "outputs": [
    {
     "name": "stdout",
     "output_type": "stream",
     "text": [
      "factorial of number is:  119622220865480194561963161495657715064383733760000000000\n"
     ]
    }
   ],
   "source": [
    "# Q5. Write a Python program to get the Factorial number of given numbers.\n",
    "a=int(input(\"enter number: \"))\n",
    "n=1\n",
    "for i in range(1,a+1):\n",
    "    n*=i\n",
    "print(\"factorial of number is: \",n)"
   ]
  },
  {
   "cell_type": "code",
   "execution_count": 3,
   "metadata": {},
   "outputs": [
    {
     "name": "stdout",
     "output_type": "stream",
     "text": [
      "0 1 1 2 3 5 8 13 21 "
     ]
    }
   ],
   "source": [
    "# Q6.Write a Python program to get the Fibonacci series of given range.\n",
    "a,b=0,1\n",
    "n=int(input(\"Enter N: \"))\n",
    "print(a,end=\" \")\n",
    "while b<n:\n",
    "    print(b,end=\" \")\n",
    "    a,b=b,a+b\n"
   ]
  },
  {
   "cell_type": "code",
   "execution_count": 4,
   "metadata": {},
   "outputs": [
    {
     "name": "stdout",
     "output_type": "stream",
     "text": [
      "before swap: a=10 , b=11\n",
      "after swap: a=11, b=10\n",
      "before swap: a=10 , b=11\n",
      "after swap: a=11, b=10\n"
     ]
    }
   ],
   "source": [
    "# Q9. Write python program that swap two number with temp variable and without temp variable.\n",
    "def swap_with_temp(a,b):\n",
    "    print(f\"before swap: a={a} , b={b}\")\n",
    "    temp=a\n",
    "    a=b\n",
    "    b=temp\n",
    "    print(f\"after swap: a={a}, b={b}\")\n",
    "    return a,b\n",
    "\n",
    "a,b=10,11\n",
    "a,b=swap_with_temp(a,b)\n",
    "\n",
    "def swap_without_temp(a,b):\n",
    "    print(f\"before swap: a={a} , b={b}\")\n",
    "    a=a+b\n",
    "    b=a-b\n",
    "    a=a-b\n",
    "    print(f\"after swap: a={a}, b={b}\")\n",
    "    return a,b\n",
    "\n",
    "a,b=10,11\n",
    "a,b=swap_without_temp(a,b)\n"
   ]
  },
  {
   "cell_type": "code",
   "execution_count": 5,
   "metadata": {},
   "outputs": [
    {
     "name": "stdout",
     "output_type": "stream",
     "text": [
      "This is odd number: \n"
     ]
    }
   ],
   "source": [
    "# Q10. Write a Python program to find whether a given number is even or odd, print out an appropriate message to the user. \n",
    "n=int(input(\"Enter number: \"))\n",
    "if n%2==0:\n",
    "    print(\"This is even number: \")\n",
    "else:\n",
    "    print(\"This is odd number: \")"
   ]
  },
  {
   "cell_type": "code",
   "execution_count": 1,
   "metadata": {},
   "outputs": [
    {
     "name": "stdout",
     "output_type": "stream",
     "text": [
      "q  is not vowel\n"
     ]
    }
   ],
   "source": [
    "# Q11. Write a Python program to test whether a passed letter is a vowel or not. \n",
    "letter = input(\"Enter a letter: \")\n",
    "if letter in ['a','e','i','o','u']:\n",
    "    print(letter,\" is a vowel letter\")\n",
    "else:\n",
    "    print(letter,\" is not vowel\")"
   ]
  },
  {
   "cell_type": "code",
   "execution_count": 2,
   "metadata": {},
   "outputs": [
    {
     "name": "stdout",
     "output_type": "stream",
     "text": [
      "sum of three numbers 39\n"
     ]
    }
   ],
   "source": [
    "# Q12. Write a Python program to sum of three given integers. However, if two values are equal sum will be zero.\n",
    "a=int(input(\"Enter number: \"))\n",
    "b=int(input(\"Enter number: \"))\n",
    "c=int(input(\"Enter number: \"))\n",
    "\n",
    "if a==b or a==c or b==c:\n",
    "    print(\"sum of two value is zero\")\n",
    "else:\n",
    "    print(\"sum of three numbers\",a+b+c)"
   ]
  },
  {
   "cell_type": "code",
   "execution_count": 3,
   "metadata": {},
   "outputs": [
    {
     "name": "stdout",
     "output_type": "stream",
     "text": [
      "True\n"
     ]
    }
   ],
   "source": [
    "# Q13. Write a Python program that will return true if the two given integer values are equal or their sum or difference is 5.\n",
    "a=int(input(\"Enter number: \"))\n",
    "b=int(input(\"Enter number: \"))\n",
    "\n",
    "if a==b:\n",
    "    print(\"True\")\n",
    "elif (a+b)==5 or (a-b)==5:\n",
    "    print(\"True\")\n",
    "else:\n",
    "    print(\"False\")"
   ]
  },
  {
   "cell_type": "code",
   "execution_count": 4,
   "metadata": {},
   "outputs": [
    {
     "name": "stdout",
     "output_type": "stream",
     "text": [
      "This is positive integer\n"
     ]
    }
   ],
   "source": [
    "# Q14. Write a python program to sum of the first n positive integers. \n",
    "n=int(input(\"Enter number: \"))\n",
    "if n>0:\n",
    "    print(\"This is positive integer\")\n",
    "else:\n",
    "    print(\"this is not positive integer\")"
   ]
  },
  {
   "cell_type": "code",
   "execution_count": 5,
   "metadata": {},
   "outputs": [
    {
     "name": "stdout",
     "output_type": "stream",
     "text": [
      "17\n"
     ]
    }
   ],
   "source": [
    "# Q15. Write a Python program to calculate the length of a string.\n",
    "a=\"Tops Technologies\"\n",
    "print(len(a))"
   ]
  },
  {
   "cell_type": "code",
   "execution_count": 6,
   "metadata": {},
   "outputs": [
    {
     "name": "stdout",
     "output_type": "stream",
     "text": [
      "2\n"
     ]
    }
   ],
   "source": [
    "# Q16. Write a Python program to count the number of characters(character frequency) in a string.\n",
    "a=\"Tops Technologies\"\n",
    "print(a.count(\"T\"))"
   ]
  },
  {
   "cell_type": "code",
   "execution_count": 7,
   "metadata": {},
   "outputs": [
    {
     "name": "stdout",
     "output_type": "stream",
     "text": [
      "2\n"
     ]
    }
   ],
   "source": [
    "# Q18. Write a Python program to count occurrences of a substring in a string. \n",
    "a=\"Tops Technologies, hello Tops\"\n",
    "print(a.count(\"Tops\"))"
   ]
  },
  {
   "cell_type": "code",
   "execution_count": 10,
   "metadata": {},
   "outputs": [],
   "source": [
    "# Q19. Write a Python program to count the occurrences of each word in a given sentence\n",
    "def count_word_occurrences(sentence):\n",
    "    # Split the sentence into words\n",
    "    words = sentence.split()\n",
    "    \n",
    "    # Create a dictionary to store word counts\n",
    "    word_count = {}\n",
    "    \n",
    "    # Count occurrences of each word\n",
    "    for word in words:\n",
    "        word = word.lower()  # Convert to lower case to count words in a case-insensitive manner\n",
    "        if word in word_count:\n",
    "            word_count[word] += 1\n",
    "        else:\n",
    "            word_count[word] = 1\n",
    "    \n",
    "    # Display the counts\n",
    "    for word, count in word_count.items():\n",
    "        print(f\"'{word}': {count}\")\n",
    "        sentence = input(\"Enter a sentence: \")\n",
    "       # Example usage\n",
    "sentence = input(\"Enter a sentence: \")\n",
    "count_word_occurrences(sentence)"
   ]
  },
  {
   "cell_type": "code",
   "execution_count": 12,
   "metadata": {},
   "outputs": [
    {
     "name": "stdout",
     "output_type": "stream",
     "text": [
      "Result= Hello World\n"
     ]
    }
   ],
   "source": [
    "# Q20. Write a Python program to get a single string from two given strings,separated by a space and swap the first two characters of each string. \n",
    "a=\"Hello\"\n",
    "b=\"World\"\n",
    "print(\"Result=\",a,b)"
   ]
  },
  {
   "cell_type": "code",
   "execution_count": null,
   "metadata": {},
   "outputs": [
    {
     "name": "stdout",
     "output_type": "stream",
     "text": [
      "Runing\n"
     ]
    }
   ],
   "source": [
    "# Q21. Write a Python program to add 'in' at the end of a given string (length should be at least 3). If the given string already ends with 'ing' thenadd 'ly' instead if the string length of the given string is less than 3,leave it unchanged. \n",
    "a=input(\"Enter String: \")\n",
    "if len(a)<3:\n",
    "    print(a)\n",
    "elif a.endswith(\"ing\"):\n",
    "    print(a+\"ly\")\n",
    "else:\n",
    "    print(a+\"ing\")"
   ]
  },
  {
   "cell_type": "code",
   "execution_count": 15,
   "metadata": {},
   "outputs": [
    {
     "name": "stdout",
     "output_type": "stream",
     "text": [
      "23\n"
     ]
    }
   ],
   "source": [
    "# Q22. Write a Python function to reverses a string if its length is a multiple of 4.\n",
    "a=input(\"Enter String: \")\n",
    "if len(a)%4==0:\n",
    "    print(a[::-1])\n",
    "else:\n",
    "    print(a) \n"
   ]
  },
  {
   "cell_type": "code",
   "execution_count": 18,
   "metadata": {},
   "outputs": [
    {
     "name": "stdout",
     "output_type": "stream",
     "text": [
      "Anli\n"
     ]
    }
   ],
   "source": [
    "# Q23. Write a Python program to get a string made of the first 2 and the last 2 chars from a given a string. If the string length is less than 2, return instead of the empty string.\n",
    "a=input(\"Enter String: \")\n",
    "if len(a)<2:\n",
    "    print(\" \")\n",
    "else:\n",
    "    print(a[:2]+a[-2:])"
   ]
  },
  {
   "cell_type": "code",
   "execution_count": 19,
   "metadata": {},
   "outputs": [
    {
     "name": "stdout",
     "output_type": "stream",
     "text": [
      "AnjEktaali\n"
     ]
    }
   ],
   "source": [
    "# Q24. Write a Python function to insert a string in the middle of a string.\n",
    "a=input(\"Enter String: \")\n",
    "b=input(\"Enter String: \")\n",
    "m= len(a)//2\n",
    "print(a[ :m]+ b +a[m: ])"
   ]
  },
  {
   "cell_type": "code",
   "execution_count": 21,
   "metadata": {},
   "outputs": [
    {
     "name": "stdout",
     "output_type": "stream",
     "text": [
      "25\n"
     ]
    }
   ],
   "source": [
    "# Q27. Suppose list1 is [2, 33, 222, 14, and 25], what is list1 [-1]? \n",
    "l1=[2,33,222,14,25]\n",
    "print(l1[-1])"
   ]
  },
  {
   "cell_type": "code",
   "execution_count": 22,
   "metadata": {},
   "outputs": [
    {
     "name": "stdout",
     "output_type": "stream",
     "text": [
      "largest number:  222\n",
      "smallest number:  2\n",
      "total numbers:  296\n"
     ]
    }
   ],
   "source": [
    "# Q29. Write a python function to get the largest number, smallest num and sum of all from a list. \n",
    "l=[2,33,222,14,25]\n",
    "largest=max(l)\n",
    "smallest=min(l)\n",
    "total=sum(l)\n",
    "\n",
    "print(\"largest number: \",largest)\n",
    "print(\"smallest number: \",smallest)\n",
    "print(\"total numbers: \",total)"
   ]
  },
  {
   "cell_type": "code",
   "execution_count": 23,
   "metadata": {},
   "outputs": [
    {
     "name": "stdout",
     "output_type": "stream",
     "text": [
      "Number of matching strings: 3\n"
     ]
    }
   ],
   "source": [
    "# Q31. Write a Python program to count the number of strings where the string length is 2 or more and the first and last character are same from a given list of strings.\n",
    "def count_matching_strings(strings):\n",
    "    count = 0\n",
    "    for s in strings:\n",
    "        if len(s) >= 2 and s[0] == s[-1]:\n",
    "            count += 1\n",
    "    return count\n",
    "# Example usage\n",
    "string_list = [\"aba\", \"xyz\", \"aa\", \"ab\", \"b\", \"aab\", \"xyx\"]\n",
    "\n",
    "# Get the count of matching strings\n",
    "matching_count = count_matching_strings(string_list)\n",
    "\n",
    "print(\"Number of matching strings:\", matching_count) "
   ]
  },
  {
   "cell_type": "code",
   "execution_count": 24,
   "metadata": {},
   "outputs": [
    {
     "name": "stdout",
     "output_type": "stream",
     "text": [
      "original list [1, 2, 3, 4, 5, 3, 4, 5, 6]\n",
      "after removing duplicates:  [1, 2, 3, 4, 5, 6]\n"
     ]
    }
   ],
   "source": [
    "# Q32. Write a Python program to remove duplicates from a list.\n",
    "l=[1,2,3,4,5,3,4,5,6]\n",
    "a=list(set(l))\n",
    "print(\"original list\",l)\n",
    "print(\"after removing duplicates: \",a)"
   ]
  },
  {
   "cell_type": "code",
   "execution_count": 25,
   "metadata": {},
   "outputs": [
    {
     "name": "stdout",
     "output_type": "stream",
     "text": [
      "list1 is empty\n"
     ]
    }
   ],
   "source": [
    "# Q33.Write a Python program to check a list is empty or not. \n",
    "l=[1,2,3,4,5,3,4,5,6]\n",
    "l1=[]\n",
    "if len(l)==0:\n",
    "    print(\"list is empty\")\n",
    "else:\n",
    "    print(\"list1 is empty\")"
   ]
  },
  {
   "cell_type": "code",
   "execution_count": 26,
   "metadata": {},
   "outputs": [
    {
     "name": "stdout",
     "output_type": "stream",
     "text": [
      "Do list1 and list2 have common members? False\n",
      "Do list1 and list3 have common members? True\n"
     ]
    }
   ],
   "source": [
    "# Q34. Write a Python function that takes two lists and returns true if they have at least one common member. \n",
    "\n",
    "# Function to check if two lists have at least one common member\n",
    "def have_common_member_comprehension(list1, list2):\n",
    "    # Check if there is any intersection between the two lists\n",
    "    return any(item in list1 for item in list2)\n",
    "\n",
    "# Example usage\n",
    "list1 = [1, 2, 3, 4]\n",
    "list2 = [5, 6, 7, 8]\n",
    "list3 = [3, 5, 7, 9]\n",
    "\n",
    "# Check if list1 and list2 have any common members\n",
    "print(\"Do list1 and list2 have common members?\", have_common_member_comprehension(list1, list2))\n",
    "\n",
    "# Check if list1 and list3 have any common members\n",
    "print(\"Do list1 and list3 have common members?\", have_common_member_comprehension(list1, list3))"
   ]
  },
  {
   "cell_type": "code",
   "execution_count": 27,
   "metadata": {},
   "outputs": [
    {
     "name": "stdout",
     "output_type": "stream",
     "text": [
      "First 5 elements: [1, 4, 9, 16, 25]\n",
      "Last 5 elements: [676, 729, 784, 841, 900]\n"
     ]
    }
   ],
   "source": [
    "# Q35. Write a Python program to generate and print a list of first and last 5 elements where the values are square of numbers between 1 and 30. \n",
    "\n",
    "# Generate a list of squares of numbers between 1 and 30\n",
    "squares = [x**2 for x in range(1, 31)]\n",
    "\n",
    "# Get the first 5 elements\n",
    "first_5 = squares[:5]\n",
    "\n",
    "# Get the last 5 elements\n",
    "last_5 = squares[-5:]\n",
    "\n",
    "# Print the results\n",
    "print(\"First 5 elements:\", first_5)\n",
    "print(\"Last 5 elements:\", last_5)"
   ]
  },
  {
   "cell_type": "code",
   "execution_count": 28,
   "metadata": {},
   "outputs": [
    {
     "name": "stdout",
     "output_type": "stream",
     "text": [
      "Original list: [1, 2, 2, 3, 4, 4, 5]\n",
      "Unique elements: [1, 2, 3, 4, 5]\n"
     ]
    }
   ],
   "source": [
    "# Q36. Write a Python function that takes a list and returns a new list with unique elements of the first list. \n",
    "def unique_elements(lst):\n",
    "    # Use a set to remove duplicates and then convert it back to a list\n",
    "    return list(set(lst))\n",
    "\n",
    "# Example usage:\n",
    "original_list = [1, 2, 2, 3, 4, 4, 5]\n",
    "unique_list = unique_elements(original_list)\n",
    "print(\"Original list:\", original_list)\n",
    "print(\"Unique elements:\", unique_list)"
   ]
  },
  {
   "cell_type": "code",
   "execution_count": 29,
   "metadata": {},
   "outputs": [
    {
     "name": "stdout",
     "output_type": "stream",
     "text": [
      "List of characters: ['H', 'e', 'l', 'l', 'o']\n",
      "Resulting string: Hello\n"
     ]
    }
   ],
   "source": [
    "#Q37. Write a Python program to convert a list of characters into a string. \n",
    "def list_to_string(char_list):\n",
    "    # Join the list of characters into a single string\n",
    "    return ''.join(char_list)\n",
    "\n",
    "# Example usage:\n",
    "char_list = ['H', 'e', 'l', 'l', 'o']\n",
    "resulting_string = list_to_string(char_list)\n",
    "print(\"List of characters:\", char_list)\n",
    "print(\"Resulting string:\", resulting_string)"
   ]
  },
  {
   "cell_type": "code",
   "execution_count": 33,
   "metadata": {},
   "outputs": [
    {
     "name": "stdout",
     "output_type": "stream",
     "text": [
      "2\n"
     ]
    }
   ],
   "source": [
    "#Q38. Write a Python program to select an item randomly from a list.\n",
    "import random\n",
    "l=[1,2,10,20,\"tops\",\"tech\",\"python\",\"true\",\"false\",100,200]\n",
    "print(random.choice(l))"
   ]
  },
  {
   "cell_type": "code",
   "execution_count": 34,
   "metadata": {},
   "outputs": [
    {
     "name": "stdout",
     "output_type": "stream",
     "text": [
      "List: [4, 2, 7, 1, 9, 2, 4]\n",
      "Second smallest number: 2\n"
     ]
    }
   ],
   "source": [
    "#Q39.Write a Python program to find the second smallest number in a list.\n",
    "def second_smallest(lst):\n",
    "    # Remove duplicates by converting the list to a set and then back to a list\n",
    "    unique_lst = list(set(lst))\n",
    "    \n",
    "    # Check if there are at least two unique elements\n",
    "    if len(unique_lst) < 2:\n",
    "        return \"List must contain at least two unique elements.\"\n",
    "    \n",
    "    # Sort the unique list\n",
    "    unique_lst.sort()\n",
    "    \n",
    "    # Return the second smallest element\n",
    "    return unique_lst[1]\n",
    "\n",
    "# Example usage:\n",
    "my_list = [4, 2, 7, 1, 9, 2, 4]\n",
    "result = second_smallest(my_list)\n",
    "print(\"List:\", my_list)\n",
    "print(\"Second smallest number:\", result)"
   ]
  },
  {
   "cell_type": "code",
   "execution_count": 35,
   "metadata": {},
   "outputs": [
    {
     "name": "stdout",
     "output_type": "stream",
     "text": [
      "Original list: [1, 2, 2, 3, 4, 4, 5, 5, 6]\n",
      "Unique values: [1, 2, 3, 4, 5, 6]\n"
     ]
    }
   ],
   "source": [
    "# Q40. Write a Python program to get unique values from a list.\n",
    "def get_unique_values(lst):\n",
    "    # Convert the list to a set to remove duplicates and then back to a list\n",
    "    unique_lst = list(set(lst))\n",
    "    return unique_lst\n",
    "\n",
    "# Example usage:\n",
    "my_list = [1, 2, 2, 3, 4, 4, 5, 5, 6]\n",
    "unique_values = get_unique_values(my_list)\n",
    "print(\"Original list:\", my_list)\n",
    "print(\"Unique values:\", unique_values)"
   ]
  },
  {
   "cell_type": "code",
   "execution_count": 36,
   "metadata": {},
   "outputs": [
    {
     "name": "stdout",
     "output_type": "stream",
     "text": [
      "Main list: [1, 2, 3, 4, 5, [6, 7]]\n",
      "Sublist: [4, 5]\n",
      "Contains sublist: False\n"
     ]
    }
   ],
   "source": [
    "# Q41. Write a Python program to check whether a list contains a sub list.\n",
    "def contains_sublist(main_list, sublist):\n",
    "    # Convert the main list and sublist to string format for easier comparison\n",
    "    str_main = str(main_list)\n",
    "    str_sub = str(sublist)\n",
    "    \n",
    "    # Check if the string representation of the sublist is in the string representation of the main list\n",
    "    return str_sub in str_main\n",
    "\n",
    "# Example usage:\n",
    "main_list = [1, 2, 3, 4, 5, [6, 7]]\n",
    "sublist = [4, 5]\n",
    "\n",
    "# Note: This example checks sublists within the list. For more accurate sublist detection,\n",
    "# you might need more advanced techniques depending on the structure and requirements.\n",
    "print(\"Main list:\", main_list)\n",
    "print(\"Sublist:\", sublist)\n",
    "print(\"Contains sublist:\", contains_sublist(main_list, sublist))"
   ]
  },
  {
   "cell_type": "code",
   "execution_count": 37,
   "metadata": {},
   "outputs": [
    {
     "name": "stdout",
     "output_type": "stream",
     "text": [
      "Original list: [10, 20, 30, 40, 50]\n",
      "Variable 1: 10\n",
      "Variable 2: 20\n",
      "Variable 3: 30\n"
     ]
    }
   ],
   "source": [
    "# Q42. Write a Python program to split a list into different variables. \n",
    "def split_list(lst):\n",
    "    # Ensure the list has at least as many elements as variables\n",
    "    if len(lst) < 3:\n",
    "        raise ValueError(\"The list must have at least three elements to unpack into three variables.\")\n",
    "    \n",
    "    # Unpack the list into different variables\n",
    "    var1, var2, var3 = lst[0], lst[1], lst[2]\n",
    "    return var1, var2, var3\n",
    "\n",
    "# Example usage:\n",
    "my_list = [10, 20, 30, 40, 50]\n",
    "var1, var2, var3 = split_list(my_list[:3])  # Pass only the first three elements for splitting\n",
    "\n",
    "print(\"Original list:\", my_list)\n",
    "print(\"Variable 1:\", var1)\n",
    "print(\"Variable 2:\", var2)\n",
    "print(\"Variable 3:\", var3)"
   ]
  },
  {
   "cell_type": "code",
   "execution_count": 38,
   "metadata": {},
   "outputs": [
    {
     "name": "stdout",
     "output_type": "stream",
     "text": [
      "Tuple with different data types: (42, 'Hello, World!', 3.14, True, [1, 2, 3])\n",
      "First element: 42 Type: <class 'int'>\n",
      "Second element: Hello, World! Type: <class 'str'>\n",
      "Third element: 3.14 Type: <class 'float'>\n",
      "Fourth element: True Type: <class 'bool'>\n",
      "Fifth element: [1, 2, 3] Type: <class 'list'>\n"
     ]
    }
   ],
   "source": [
    "# Q44. Write a Python program to create a tuple with different data types.\n",
    " \n",
    "my_tuple = (42, \"Hello, World!\", 3.14, True, [1, 2, 3])\n",
    "\n",
    "# Printing the tuple\n",
    "print(\"Tuple with different data types:\", my_tuple)\n",
    "\n",
    "# Accessing each element in the tuple to show its type\n",
    "print(\"First element:\", my_tuple[0], \"Type:\", type(my_tuple[0]))\n",
    "print(\"Second element:\", my_tuple[1], \"Type:\", type(my_tuple[1]))\n",
    "print(\"Third element:\", my_tuple[2], \"Type:\", type(my_tuple[2]))\n",
    "print(\"Fourth element:\", my_tuple[3], \"Type:\", type(my_tuple[3]))\n",
    "print(\"Fifth element:\", my_tuple[4], \"Type:\", type(my_tuple[4]))"
   ]
  },
  {
   "cell_type": "code",
   "execution_count": 40,
   "metadata": {},
   "outputs": [
    {
     "name": "stdout",
     "output_type": "stream",
     "text": [
      "List 1: [1, 2, 3, 4]\n",
      "List 2: ['a', 'b', 'c', 'd']\n"
     ]
    }
   ],
   "source": [
    "# Q45. Write a Python program to unzip a list of tuples into individual lists. \n",
    "list_of_tuples = [(1, 'a'), (2, 'b'), (3, 'c'), (4, 'd')]\n",
    "\n",
    "# Unzipping the list of tuples into individual lists\n",
    "list1, list2 = zip(*list_of_tuples)\n",
    "\n",
    "# Converting the results to lists\n",
    "list1 = list(list1)\n",
    "list2 = list(list2)\n",
    "\n",
    "# Printing the individual lists\n",
    "print(\"List 1:\", list1)\n",
    "print(\"List 2:\", list2)"
   ]
  },
  {
   "cell_type": "code",
   "execution_count": 41,
   "metadata": {},
   "outputs": [
    {
     "name": "stdout",
     "output_type": "stream",
     "text": [
      "Dictionary: {1: 'a', 2: 'b', 3: 'c', 4: 'd'}\n"
     ]
    }
   ],
   "source": [
    "# Q46. Write a Python program to convert a list of tuples into a dictionary.\n",
    "list_of_tuples = [(1, 'a'), (2, 'b'), (3, 'c'), (4, 'd')]\n",
    "\n",
    "# Converting the list of tuples into a dictionary\n",
    "dictionary = dict(list_of_tuples)\n",
    "\n",
    "# Printing the resulting dictionary\n",
    "print(\"Dictionary:\", dictionary)"
   ]
  },
  {
   "cell_type": "code",
   "execution_count": 42,
   "metadata": {},
   "outputs": [
    {
     "name": "stdout",
     "output_type": "stream",
     "text": [
      "Dictionary sorted by value (ascending): {'banana': 2, 'cherry': 5, 'date': 8, 'apple': 10}\n",
      "Dictionary sorted by value (descending): {'apple': 10, 'date': 8, 'cherry': 5, 'banana': 2}\n"
     ]
    }
   ],
   "source": [
    "# Q48. Write a Python script to sort (ascending and descending) a dictionary by value.\n",
    "my_dict = {'apple': 10, 'banana': 2, 'cherry': 5, 'date': 8}\n",
    "\n",
    "# Sorting the dictionary by value in ascending order\n",
    "sorted_dict_ascending = dict(sorted(my_dict.items(), key=lambda item: item[1]))\n",
    "\n",
    "# Sorting the dictionary by value in descending order\n",
    "sorted_dict_descending = dict(sorted(my_dict.items(), key=lambda item: item[1], reverse=True))\n",
    "\n",
    "# Printing the sorted dictionaries\n",
    "print(\"Dictionary sorted by value (ascending):\", sorted_dict_ascending)\n",
    "print(\"Dictionary sorted by value (descending):\", sorted_dict_descending)"
   ]
  },
  {
   "cell_type": "code",
   "execution_count": 43,
   "metadata": {},
   "outputs": [
    {
     "name": "stdout",
     "output_type": "stream",
     "text": [
      "Combined dictionary: {'a': 1, 'b': 2, 'c': 3, 'd': 4, 'e': 5, 'f': 6}\n"
     ]
    }
   ],
   "source": [
    "# Q49. Write a Python script to concatenate following dictionaries to create a new one.\n",
    "dict1 = {'a': 1, 'b': 2}\n",
    "dict2 = {'c': 3, 'd': 4}\n",
    "dict3 = {'e': 5, 'f': 6}\n",
    "\n",
    "# Concatenate dictionaries using dictionary unpacking\n",
    "combined_dict = {**dict1, **dict2, **dict3}\n",
    "\n",
    "# Printing the resulting dictionary\n",
    "print(\"Combined dictionary:\", combined_dict)"
   ]
  },
  {
   "cell_type": "code",
   "execution_count": 44,
   "metadata": {},
   "outputs": [
    {
     "name": "stdout",
     "output_type": "stream",
     "text": [
      "The key 'banana' exists in the dictionary.\n"
     ]
    }
   ],
   "source": [
    "# Q50. Write a Python script to check if  given key already exists in a dictionary.\n",
    "my_dict = {'apple': 10, 'banana': 5, 'cherry': 7}\n",
    "\n",
    "# Function to check if a key exists in the dictionary\n",
    "def key_exists(dictionary, key):\n",
    "    return key in dictionary\n",
    "\n",
    "# Example usage\n",
    "key_to_check = 'banana'\n",
    "exists = key_exists(my_dict, key_to_check)\n",
    "\n",
    "if exists:\n",
    "    print(f\"The key '{key_to_check}' exists in the dictionary.\")\n",
    "else:\n",
    "    print(f\"The key '{key_to_check}' does not exist in the dictionary.\")"
   ]
  },
  {
   "cell_type": "code",
   "execution_count": 45,
   "metadata": {},
   "outputs": [
    {
     "name": "stdout",
     "output_type": "stream",
     "text": [
      "Dictionary with keys from 1 to 15:\n",
      "{1: 1, 2: 4, 3: 9, 4: 16, 5: 25, 6: 36, 7: 49, 8: 64, 9: 81, 10: 100, 11: 121, 12: 144, 13: 169, 14: 196, 15: 225}\n"
     ]
    }
   ],
   "source": [
    "# Q53. Write a Python script to print a dictionary where the keys are numbers between 1 and 15.\n",
    "my_dict = {key: key**2 for key in range(1, 16)}\n",
    "\n",
    "# Printing the dictionary\n",
    "print(\"Dictionary with keys from 1 to 15:\")\n",
    "print(my_dict)"
   ]
  },
  {
   "cell_type": "code",
   "execution_count": 46,
   "metadata": {},
   "outputs": [
    {
     "name": "stdout",
     "output_type": "stream",
     "text": [
      "Missing keys: {'date'}\n"
     ]
    }
   ],
   "source": [
    "# Q54. Write a Python program to check multiple keys exists in a dictionary\n",
    "my_dict = {'apple': 10, 'banana': 5, 'cherry': 7}\n",
    "\n",
    "# List of keys to check\n",
    "keys_to_check = {'apple', 'banana', 'date'}\n",
    "\n",
    "# Convert dictionary keys to a set\n",
    "dict_keys = set(my_dict.keys())\n",
    "\n",
    "# Check if all keys in keys_to_check are present in the dictionary\n",
    "missing_keys = keys_to_check - dict_keys\n",
    "\n",
    "if not missing_keys:\n",
    "    print(\"All keys are present in the dictionary.\")\n",
    "else:\n",
    "    print(\"Missing keys:\", missing_keys)"
   ]
  },
  {
   "cell_type": "code",
   "execution_count": 47,
   "metadata": {},
   "outputs": [
    {
     "name": "stdout",
     "output_type": "stream",
     "text": [
      "Merged dictionary: {'a': 1, 'b': 2, 'c': 3, 'd': 4}\n"
     ]
    }
   ],
   "source": [
    "# Q55. Write a Python script to merge two Python dictionaries.\n",
    "# Example dictionaries\n",
    "dict1 = {'a': 1, 'b': 2}\n",
    "dict2 = {'c': 3, 'd': 4}\n",
    "\n",
    "# Merging dictionaries using unpacking\n",
    "merged_dict = {**dict1, **dict2}\n",
    "\n",
    "# Printing the merged dictionary\n",
    "print(\"Merged dictionary:\", merged_dict)"
   ]
  },
  {
   "cell_type": "code",
   "execution_count": 48,
   "metadata": {},
   "outputs": [
    {
     "name": "stdout",
     "output_type": "stream",
     "text": [
      "Counter ({'a': 400, 'b': 400, 'd': 400, 'c': 300})\n"
     ]
    }
   ],
   "source": [
    "# Q56. Write a Python program to map two lists into a dictionary.\n",
    "keys = ['a', 'b', 'd', 'c']\n",
    "values = [400, 400, 400, 300]\n",
    "\n",
    "# Mapping two lists into a dictionary\n",
    "mapped_dict = dict(zip(keys, values))\n",
    "\n",
    "# Printing the dictionary in the desired format\n",
    "print(f\"Counter ({mapped_dict})\")"
   ]
  },
  {
   "cell_type": "code",
   "execution_count": 49,
   "metadata": {},
   "outputs": [
    {
     "name": "stdout",
     "output_type": "stream",
     "text": [
      "The highest 3 values in the dictionary are: [10, 7, 5]\n"
     ]
    }
   ],
   "source": [
    "# Q57. Write a Python program to find the highest 3 values in a dictionary.\n",
    "y_dict = {'a': 10, 'b': 45, 'c': 32, 'd': 78, 'e': 23, 'f': 56}\n",
    "\n",
    "# Find the top 3 highest values\n",
    "top_3_values = sorted(my_dict.values(), reverse=True)[:3]\n",
    "\n",
    "# Print the top 3 highest values\n",
    "print(\"The highest 3 values in the dictionary are:\", top_3_values)"
   ]
  },
  {
   "cell_type": "code",
   "execution_count": 50,
   "metadata": {},
   "outputs": [
    {
     "name": "stdout",
     "output_type": "stream",
     "text": [
      "Counter ({'item1': 1150, 'item2': 300})\n"
     ]
    }
   ],
   "source": [
    "# Q58. Write a Python program to combine values in python list of dictionaries. \n",
    "\n",
    "from collections import defaultdict\n",
    "\n",
    "# Sample data\n",
    "data = [{'item': 'item1', 'amount': 400}, {'item': 'item2', 'amount': 300}, {'item': 'item1', 'amount': 750}]\n",
    "\n",
    "# Create a defaultdict to accumulate the amounts\n",
    "combined_dict = defaultdict(int)\n",
    "\n",
    "# Aggregate the amounts for each item\n",
    "for entry in data:\n",
    "    item = entry['item']\n",
    "    amount = entry['amount']\n",
    "    combined_dict[item] += amount\n",
    "\n",
    "# Convert defaultdict to a regular dictionary\n",
    "combined_dict = dict(combined_dict)\n",
    "\n",
    "# Print the result in the desired format\n",
    "print(f\"Counter ({combined_dict})\")"
   ]
  },
  {
   "cell_type": "code",
   "execution_count": 51,
   "metadata": {},
   "outputs": [
    {
     "name": "stdout",
     "output_type": "stream",
     "text": [
      "Letter count dictionary: {'h': 1, 'e': 1, 'l': 3, 'o': 2, 'w': 1, 'r': 1, 'd': 1}\n"
     ]
    }
   ],
   "source": [
    "# Q59. Write a Python program to create a dictionary from a string. Note: Track the count of the letters from the string.\n",
    "from collections import defaultdict\n",
    "\n",
    "# Sample string\n",
    "input_string = \"hello world\"\n",
    "\n",
    "# Create a defaultdict to count occurrences of each letter\n",
    "letter_count = defaultdict(int)\n",
    "\n",
    "# Count each letter in the string\n",
    "for char in input_string:\n",
    "    if char.isalpha():  # Optionally count only alphabetic characters\n",
    "        letter_count[char] += 1\n",
    "\n",
    "# Convert defaultdict to a regular dictionary\n",
    "letter_count = dict(letter_count)\n",
    "\n",
    "# Print the result\n",
    "print(\"Letter count dictionary:\", letter_count)"
   ]
  },
  {
   "cell_type": "code",
   "execution_count": 52,
   "metadata": {},
   "outputs": [
    {
     "name": "stdout",
     "output_type": "stream",
     "text": [
      "Character count dictionary: {'w': 1, '3': 1, 'r': 2, 'e': 2, 's': 1, 'o': 1, 'u': 1, 'c': 1}\n"
     ]
    }
   ],
   "source": [
    "# Q60. \n",
    "from collections import Counter\n",
    "\n",
    "# Sample string\n",
    "input_string = 'w3resource'\n",
    "\n",
    "# Count occurrences of each character using Counter\n",
    "char_count = Counter(input_string)\n",
    "\n",
    "# Convert Counter to a regular dictionary (optional, as Counter is already a dictionary-like object)\n",
    "char_count_dict = dict(char_count)\n",
    "\n",
    "# Print the result\n",
    "print(\"Character count dictionary:\", char_count_dict)"
   ]
  },
  {
   "cell_type": "code",
   "execution_count": 53,
   "metadata": {},
   "outputs": [
    {
     "name": "stdout",
     "output_type": "stream",
     "text": [
      "120\n"
     ]
    }
   ],
   "source": [
    "# Q61. Write a Python function to calculate the factorial of a number (a nonnegative integer)\n",
    "def factorial_iterative(n):\n",
    "    \"\"\"\n",
    "    Calculate the factorial of a non-negative integer n using an iterative approach.\n",
    "    \n",
    "    :param n: Non-negative integer\n",
    "    :return: Factorial of n\n",
    "    \"\"\"\n",
    "    if n < 0:\n",
    "        raise ValueError(\"Input must be a non-negative integer.\")\n",
    "    \n",
    "    result = 1\n",
    "    for i in range(2, n + 1):\n",
    "        result *= i\n",
    "    return result\n",
    "\n",
    "# Example usage\n",
    "print(factorial_iterative(5))"
   ]
  },
  {
   "cell_type": "code",
   "execution_count": 54,
   "metadata": {},
   "outputs": [
    {
     "name": "stdout",
     "output_type": "stream",
     "text": [
      "True\n",
      "False\n"
     ]
    }
   ],
   "source": [
    "# Q62. Write a Python function to check whether a number is in a given range.\n",
    "def is_in_range(number, lower_bound, upper_bound):\n",
    "    \"\"\"\n",
    "    Check if a number is within the specified range (inclusive).\n",
    "    \n",
    "    :param number: The number to check\n",
    "    :param lower_bound: The lower bound of the range (inclusive)\n",
    "    :param upper_bound: The upper bound of the range (inclusive)\n",
    "    :return: True if the number is within the range, False otherwise\n",
    "    \"\"\"\n",
    "    if lower_bound <= number <= upper_bound:\n",
    "        return True\n",
    "    else:\n",
    "        return False\n",
    "\n",
    "# Example usage\n",
    "print(is_in_range(5, 1, 10))  \n",
    "print(is_in_range(15, 1, 10))  "
   ]
  },
  {
   "cell_type": "code",
   "execution_count": 55,
   "metadata": {},
   "outputs": [
    {
     "name": "stdout",
     "output_type": "stream",
     "text": [
      "True\n",
      "True\n",
      "False\n"
     ]
    }
   ],
   "source": [
    "# Q63. Write a Python function to check whether a number is perfect or not.\n",
    "def is_perfect_number(number):\n",
    "    \"\"\"\n",
    "    Check whether a number is a perfect number.\n",
    "    \n",
    "    :param number: The number to check\n",
    "    :return: True if the number is a perfect number, False otherwise\n",
    "    \"\"\"\n",
    "    if number < 1:\n",
    "        return False\n",
    "    \n",
    "    # Find the sum of proper divisors\n",
    "    sum_of_divisors = sum(i for i in range(1, number) if number % i == 0)\n",
    "    \n",
    "    return sum_of_divisors == number\n",
    "\n",
    "# Example usage\n",
    "print(is_perfect_number(6))  \n",
    "print(is_perfect_number(28)) \n",
    "print(is_perfect_number(12))  "
   ]
  },
  {
   "cell_type": "code",
   "execution_count": 56,
   "metadata": {},
   "outputs": [
    {
     "name": "stdout",
     "output_type": "stream",
     "text": [
      "True\n",
      "False\n",
      "True\n"
     ]
    }
   ],
   "source": [
    "# Q64. Write a Python function that checks whether a passed string is palindrome or not.\n",
    "def is_palindrome(s):\n",
    "    \"\"\"\n",
    "    Check whether a given string is a palindrome.\n",
    "    \n",
    "    :param s: The string to check\n",
    "    :return: True if the string is a palindrome, False otherwise\n",
    "    \"\"\"\n",
    "    # Normalize the string by converting it to lowercase and removing non-alphanumeric characters\n",
    "    normalized_str = ''.join(char.lower() for char in s if char.isalnum())\n",
    "    \n",
    "    # Check if the normalized string is equal to its reverse\n",
    "    return normalized_str == normalized_str[::-1]\n",
    "\n",
    "# Example usage\n",
    "print(is_palindrome(\"A man, a plan, a canal, Panama\"))\n",
    "print(is_palindrome(\"Hello, World!\"))     \n",
    "print(is_palindrome(\"racecar\"))                          "
   ]
  },
  {
   "cell_type": "code",
   "execution_count": 57,
   "metadata": {},
   "outputs": [
    {
     "name": "stdout",
     "output_type": "stream",
     "text": [
      "Random item from list: 20\n"
     ]
    }
   ],
   "source": [
    "# Q66.How can you pick a random item from a list or tuple? \n",
    "import random\n",
    "\n",
    "# Sample list\n",
    "my_list = [10, 20, 30, 40, 50]\n",
    "\n",
    "# Pick a random item from the list\n",
    "random_item = random.choice(my_list)\n",
    "\n",
    "print(\"Random item from list:\", random_item)"
   ]
  },
  {
   "cell_type": "code",
   "execution_count": 58,
   "metadata": {},
   "outputs": [
    {
     "name": "stdout",
     "output_type": "stream",
     "text": [
      "The file example.txt does not exist.\n"
     ]
    }
   ],
   "source": [
    "# Q72. Write a Python program to read an entire text file.\n",
    "file_name = 'example.txt'\n",
    "\n",
    "try:\n",
    "    # Open the file in read mode\n",
    "    with open(file_name, 'r') as file:\n",
    "        # Read the entire content of the file\n",
    "        content = file.read()\n",
    "        \n",
    "    # Print the content of the file\n",
    "    print(\"File content:\")\n",
    "    print(content)\n",
    "except FileNotFoundError:\n",
    "    print(f\"The file {file_name} does not exist.\")\n",
    "except IOError:\n",
    "    print(\"An error occurred while reading the file.\")"
   ]
  },
  {
   "cell_type": "code",
   "execution_count": 59,
   "metadata": {},
   "outputs": [
    {
     "name": "stdout",
     "output_type": "stream",
     "text": [
      "Updated file content:\n",
      "This is an additional line of text.\n",
      "\n"
     ]
    }
   ],
   "source": [
    "# Q73. Write a Python program to append text to a file and display the text.\n",
    "file_name = 'example.txt'\n",
    "\n",
    "# Text to append\n",
    "text_to_append = \"This is an additional line of text.\\n\"\n",
    "\n",
    "# Append text to the file\n",
    "with open(file_name, 'a') as file:\n",
    "    file.write(text_to_append)\n",
    "\n",
    "# Read and display the updated content of the file\n",
    "try:\n",
    "    with open(file_name, 'r') as file:\n",
    "        content = file.read()\n",
    "    \n",
    "    print(\"Updated file content:\")\n",
    "    print(content)\n",
    "except FileNotFoundError:\n",
    "    print(f\"The file {file_name} does not exist.\")\n",
    "except IOError:\n",
    "    print(\"An error occurred while reading the file.\")"
   ]
  },
  {
   "cell_type": "code",
   "execution_count": 60,
   "metadata": {},
   "outputs": [
    {
     "name": "stdout",
     "output_type": "stream",
     "text": [
      "This is an additional line of text.\n"
     ]
    }
   ],
   "source": [
    "# Q74. Write a Python program to read first n lines of a file.\n",
    "def read_first_n_lines(file_name, n):\n",
    "    \"\"\"\n",
    "    Read and print the first n lines of a file.\n",
    "\n",
    "    :param file_name: Name of the file to read\n",
    "    :param n: Number of lines to read\n",
    "    \"\"\"\n",
    "    try:\n",
    "        with open(file_name, 'r') as file:\n",
    "            for i in range(n):\n",
    "                line = file.readline()\n",
    "                if not line:  # Stop if end of file is reached\n",
    "                    break\n",
    "                print(line, end='')  # Print without adding extra newline\n",
    "    except FileNotFoundError:\n",
    "        print(f\"The file {file_name} does not exist.\")\n",
    "    except IOError:\n",
    "        print(\"An error occurred while reading the file.\")\n",
    "\n",
    "# Define the file name and the number of lines to read\n",
    "file_name = 'example.txt'\n",
    "n = 5  # Number of lines to read\n",
    "\n",
    "# Call the function to read and print the first n lines\n",
    "read_first_n_lines(file_name, n)"
   ]
  },
  {
   "cell_type": "code",
   "execution_count": 61,
   "metadata": {},
   "outputs": [
    {
     "name": "stdout",
     "output_type": "stream",
     "text": [
      "This is an additional line of text.\n"
     ]
    }
   ],
   "source": [
    "# Q75. Write a Python program to read last n lines of a file.\n",
    "def read_last_n_lines(file_name, n):\n",
    "    \"\"\"\n",
    "    Read and print the last n lines of a file.\n",
    "\n",
    "    :param file_name: Name of the file to read\n",
    "    :param n: Number of lines to read from the end\n",
    "    \"\"\"\n",
    "    try:\n",
    "        with open(file_name, 'r') as file:\n",
    "            # Read all lines into a list\n",
    "            lines = file.readlines()\n",
    "            \n",
    "            # Get the last n lines\n",
    "            last_n_lines = lines[-n:] if n <= len(lines) else lines\n",
    "            \n",
    "            # Print the last n lines\n",
    "            for line in last_n_lines:\n",
    "                print(line, end='')  # Print without adding extra newline\n",
    "    except FileNotFoundError:\n",
    "        print(f\"The file {file_name} does not exist.\")\n",
    "    except IOError:\n",
    "        print(\"An error occurred while reading the file.\")\n",
    "\n",
    "# Define the file name and the number of lines to read\n",
    "file_name = 'example.txt'\n",
    "n = 5  # Number of lines to read from the end\n",
    "\n",
    "# Call the function to read and print the last n lines\n",
    "read_last_n_lines(file_name, n)"
   ]
  },
  {
   "cell_type": "code",
   "execution_count": 62,
   "metadata": {},
   "outputs": [
    {
     "name": "stdout",
     "output_type": "stream",
     "text": [
      "Lines in the file:\n",
      "This is an additional line of text.\n"
     ]
    }
   ],
   "source": [
    "# Q76. Write a Python program to read a file line by line and store it into a list.\n",
    "def read_file_to_list(file_name):\n",
    "    \"\"\"\n",
    "    Read a file line by line and store each line into a list.\n",
    "\n",
    "    :param file_name: Name of the file to read\n",
    "    :return: List containing all lines of the file\n",
    "    \"\"\"\n",
    "    lines_list = []\n",
    "    try:\n",
    "        with open(file_name, 'r') as file:\n",
    "            # Read each line and append to the list\n",
    "            for line in file:\n",
    "                lines_list.append(line.rstrip('\\n'))  # Remove the newline character\n",
    "    except FileNotFoundError:\n",
    "        print(f\"The file {file_name} does not exist.\")\n",
    "    except IOError:\n",
    "        print(\"An error occurred while reading the file.\")\n",
    "    \n",
    "    return lines_list\n",
    "\n",
    "# Define the file name\n",
    "file_name = 'example.txt'\n",
    "\n",
    "# Call the function to read the file and get the lines as a list\n",
    "lines = read_file_to_list(file_name)\n",
    "\n",
    "# Print the lines\n",
    "print(\"Lines in the file:\")\n",
    "for line in lines:\n",
    "    print(line)"
   ]
  },
  {
   "cell_type": "code",
   "execution_count": 63,
   "metadata": {},
   "outputs": [
    {
     "name": "stdout",
     "output_type": "stream",
     "text": [
      "File content:\n",
      "This is an additional line of text.\n",
      "\n"
     ]
    }
   ],
   "source": [
    "# Q77. Write a Python program to read a file line by line store it into a variable. \n",
    "def read_file_to_variable(file_name):\n",
    "    \"\"\"\n",
    "    Read a file line by line and store its contents into a single variable.\n",
    "\n",
    "    :param file_name: Name of the file to read\n",
    "    :return: String containing all lines of the file concatenated\n",
    "    \"\"\"\n",
    "    try:\n",
    "        with open(file_name, 'r') as file:\n",
    "            # Read all lines and join them into a single string\n",
    "            content = ''.join(line for line in file)\n",
    "    except FileNotFoundError:\n",
    "        print(f\"The file {file_name} does not exist.\")\n",
    "        content = None\n",
    "    except IOError:\n",
    "        print(\"An error occurred while reading the file.\")\n",
    "        content = None\n",
    "    \n",
    "    return content\n",
    "\n",
    "# Define the file name\n",
    "file_name = 'example.txt'\n",
    "\n",
    "# Call the function to read the file and get the content as a variable\n",
    "file_content = read_file_to_variable(file_name)\n",
    "\n",
    "# Print the content if it was successfully read\n",
    "if file_content is not None:\n",
    "    print(\"File content:\")\n",
    "    print(file_content)"
   ]
  },
  {
   "cell_type": "code",
   "execution_count": 64,
   "metadata": {},
   "outputs": [
    {
     "name": "stdout",
     "output_type": "stream",
     "text": [
      "Longest word(s):\n",
      "additional\n"
     ]
    }
   ],
   "source": [
    "# Q78. Write a python program to find the longest words.\n",
    "def find_longest_words(file_name):\n",
    "    \"\"\"\n",
    "    Find and return the longest word(s) in a file.\n",
    "\n",
    "    :param file_name: Name of the file to read\n",
    "    :return: List of longest word(s)\n",
    "    \"\"\"\n",
    "    try:\n",
    "        with open(file_name, 'r') as file:\n",
    "            # Read the entire file content\n",
    "            content = file.read()\n",
    "\n",
    "            # Split content into words (using whitespace as delimiter)\n",
    "            words = content.split()\n",
    "\n",
    "            # Find the length of the longest word(s)\n",
    "            max_length = max(len(word) for word in words) if words else 0\n",
    "\n",
    "            # Find all words that have the maximum length\n",
    "            longest_words = [word for word in words if len(word) == max_length]\n",
    "\n",
    "    except FileNotFoundError:\n",
    "        print(f\"The file {file_name} does not exist.\")\n",
    "        longest_words = []\n",
    "    except IOError:\n",
    "        print(\"An error occurred while reading the file.\")\n",
    "        longest_words = []\n",
    "\n",
    "    return longest_words\n",
    "\n",
    "# Define the file name\n",
    "file_name = 'example.txt'\n",
    "\n",
    "# Call the function to find the longest word(s)\n",
    "longest_words = find_longest_words(file_name)\n",
    "\n",
    "# Print the longest words\n",
    "print(\"Longest word(s):\")\n",
    "for word in longest_words:\n",
    "    print(word)"
   ]
  },
  {
   "cell_type": "code",
   "execution_count": 65,
   "metadata": {},
   "outputs": [
    {
     "name": "stdout",
     "output_type": "stream",
     "text": [
      "Number of lines in the file: 1\n"
     ]
    }
   ],
   "source": [
    "# Q79. Write a Python program to count the number of lines in a text file.\n",
    "def count_lines_in_file(file_name):\n",
    "    \"\"\"\n",
    "    Count the number of lines in a file.\n",
    "\n",
    "    :param file_name: Name of the file to count lines\n",
    "    :return: Number of lines in the file\n",
    "    \"\"\"\n",
    "    try:\n",
    "        with open(file_name, 'r') as file:\n",
    "            # Initialize line count\n",
    "            line_count = 0\n",
    "            \n",
    "            # Iterate over each line in the file\n",
    "            for line in file:\n",
    "                line_count += 1\n",
    "                \n",
    "    except FileNotFoundError:\n",
    "        print(f\"The file {file_name} does not exist.\")\n",
    "        line_count = 0\n",
    "    except IOError:\n",
    "        print(\"An error occurred while reading the file.\")\n",
    "        line_count = 0\n",
    "    \n",
    "    return line_count\n",
    "\n",
    "# Define the file name\n",
    "file_name = 'example.txt'\n",
    "\n",
    "# Call the function to count the number of lines\n",
    "number_of_lines = count_lines_in_file(file_name)\n",
    "\n",
    "# Print the number of lines\n",
    "print(f\"Number of lines in the file: {number_of_lines}\")"
   ]
  },
  {
   "cell_type": "code",
   "execution_count": 66,
   "metadata": {},
   "outputs": [
    {
     "name": "stdout",
     "output_type": "stream",
     "text": [
      "Word frequencies:\n",
      "this: 1\n",
      "is: 1\n",
      "an: 1\n",
      "additional: 1\n",
      "line: 1\n",
      "of: 1\n",
      "text: 1\n"
     ]
    }
   ],
   "source": [
    "# Q80. Write a Python program to count the frequency of words in a file. \n",
    "from collections import Counter\n",
    "import re\n",
    "\n",
    "def count_word_frequency(file_name):\n",
    "    \"\"\"\n",
    "    Count the frequency of each word in a file.\n",
    "\n",
    "    :param file_name: Name of the file to analyze\n",
    "    :return: Dictionary with words as keys and their frequencies as values\n",
    "    \"\"\"\n",
    "    try:\n",
    "        with open(file_name, 'r') as file:\n",
    "            # Read the entire file content\n",
    "            content = file.read()\n",
    "            \n",
    "            # Convert to lowercase to make the count case-insensitive\n",
    "            content = content.lower()\n",
    "            \n",
    "            # Use regular expressions to find words, ignoring punctuation\n",
    "            words = re.findall(r'\\b\\w+\\b', content)\n",
    "            \n",
    "            # Count the frequency of each word\n",
    "            word_counts = Counter(words)\n",
    "            \n",
    "    except FileNotFoundError:\n",
    "        print(f\"The file {file_name} does not exist.\")\n",
    "        word_counts = {}\n",
    "    except IOError:\n",
    "        print(\"An error occurred while reading the file.\")\n",
    "        word_counts = {}\n",
    "    \n",
    "    return word_counts\n",
    "\n",
    "# Define the file name\n",
    "file_name = 'example.txt'\n",
    "\n",
    "# Call the function to get word frequencies\n",
    "word_frequencies = count_word_frequency(file_name)\n",
    "\n",
    "# Print the word frequencies\n",
    "print(\"Word frequencies:\")\n",
    "for word, count in word_frequencies.items():\n",
    "    print(f\"{word}: {count}\")"
   ]
  },
  {
   "cell_type": "code",
   "execution_count": 67,
   "metadata": {},
   "outputs": [
    {
     "name": "stdout",
     "output_type": "stream",
     "text": [
      "Data has been written to output.txt.\n"
     ]
    }
   ],
   "source": [
    "# Q81. Write a Python program to write a list to a file.\n",
    "def write_list_to_file(file_name, data_list):\n",
    "    \"\"\"\n",
    "    Write the elements of a list to a file.\n",
    "\n",
    "    :param file_name: Name of the file to write to\n",
    "    :param data_list: List of data to write to the file\n",
    "    \"\"\"\n",
    "    try:\n",
    "        with open(file_name, 'w') as file:\n",
    "            # Write each element of the list to the file\n",
    "            for item in data_list:\n",
    "                file.write(f\"{item}\\n\")\n",
    "        print(f\"Data has been written to {file_name}.\")\n",
    "    except IOError:\n",
    "        print(\"An error occurred while writing to the file.\")\n",
    "\n",
    "# Define the file name and the list to write\n",
    "file_name = 'output.txt'\n",
    "data_list = ['apple', 'banana', 'cherry', 'date', 'elderberry']\n",
    "\n",
    "# Call the function to write the list to the file\n",
    "write_list_to_file(file_name, data_list)"
   ]
  },
  {
   "cell_type": "code",
   "execution_count": 68,
   "metadata": {},
   "outputs": [
    {
     "name": "stdout",
     "output_type": "stream",
     "text": [
      "The file source.txt does not exist.\n"
     ]
    }
   ],
   "source": [
    "# Q82. Write a Python program to copy the contents of a file to another file.\n",
    "def copy_file_contents(source_file, destination_file):\n",
    "    \"\"\"\n",
    "    Copy the contents of one file to another.\n",
    "\n",
    "    :param source_file: Name of the source file to read from\n",
    "    :param destination_file: Name of the destination file to write to\n",
    "    \"\"\"\n",
    "    try:\n",
    "        # Open the source file in read mode\n",
    "        with open(source_file, 'r') as src:\n",
    "            # Open the destination file in write mode\n",
    "            with open(destination_file, 'w') as dst:\n",
    "                # Read the content of the source file and write to the destination file\n",
    "                content = src.read()\n",
    "                dst.write(content)\n",
    "        print(f\"Contents copied from {source_file} to {destination_file}.\")\n",
    "    except FileNotFoundError:\n",
    "        print(f\"The file {source_file} does not exist.\")\n",
    "    except IOError:\n",
    "        print(\"An error occurred while copying the file.\")\n",
    "\n",
    "# Define the source and destination file names\n",
    "source_file = 'source.txt'\n",
    "destination_file = 'destination.txt'\n",
    "\n",
    "# Call the function to copy contents\n",
    "copy_file_contents(source_file, destination_file)"
   ]
  },
  {
   "cell_type": "code",
   "execution_count": 73,
   "metadata": {},
   "outputs": [
    {
     "name": "stdout",
     "output_type": "stream",
     "text": [
      "You entered the odd number: 49\n"
     ]
    }
   ],
   "source": [
    "# Q90. Write python program that user to enter only odd numbers, else will raise an exception.\n",
    "def get_odd_number():\n",
    "    while True:\n",
    "        try:\n",
    "            # Prompt the user for input\n",
    "            user_input = input(\"Please enter an odd number: \")\n",
    "            \n",
    "            # Convert the input to an integer\n",
    "            number = int(user_input)\n",
    "            \n",
    "            # Check if the number is even\n",
    "            if number % 2 == 0:\n",
    "                raise EvenNumberError(\"The number entered is even, not odd.\")\n",
    "            \n",
    "            # If number is odd, break out of the loop\n",
    "            print(f\"You entered the odd number: {number}\")\n",
    "            break\n",
    "        \n",
    "        except ValueError:\n",
    "            # Handle the case where input is not an integer\n",
    "            print(\"Invalid input. Please enter a valid integer.\")\n",
    "        \n",
    "        except EvenNumberError as e:\n",
    "            # Handle the case where an even number is entered\n",
    "            print(e)\n",
    "# Run the program\n",
    "get_odd_number()"
   ]
  }
 ],
 "metadata": {
  "kernelspec": {
   "display_name": "Python 3",
   "language": "python",
   "name": "python3"
  },
  "language_info": {
   "codemirror_mode": {
    "name": "ipython",
    "version": 3
   },
   "file_extension": ".py",
   "mimetype": "text/x-python",
   "name": "python",
   "nbconvert_exporter": "python",
   "pygments_lexer": "ipython3",
   "version": "3.13.1"
  }
 },
 "nbformat": 4,
 "nbformat_minor": 2
}
